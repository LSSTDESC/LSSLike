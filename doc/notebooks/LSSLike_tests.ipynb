{
 "cells": [
  {
   "cell_type": "code",
   "execution_count": null,
   "metadata": {
    "collapsed": false
   },
   "outputs": [],
   "source": [
    "%pylab inline"
   ]
  },
  {
   "cell_type": "code",
   "execution_count": null,
   "metadata": {
    "collapsed": true
   },
   "outputs": [],
   "source": [
    "import sacc\n",
    "import lmfit\n",
    "import emcee"
   ]
  },
  {
   "cell_type": "code",
   "execution_count": null,
   "metadata": {
    "collapsed": false
   },
   "outputs": [],
   "source": [
    "%cd ../../"
   ]
  },
  {
   "cell_type": "code",
   "execution_count": null,
   "metadata": {
    "collapsed": true
   },
   "outputs": [],
   "source": [
    "from lss_like import LSSLikelihood"
   ]
  },
  {
   "cell_type": "code",
   "execution_count": null,
   "metadata": {
    "collapsed": true
   },
   "outputs": [],
   "source": [
    "from lss_theory import LSSTheory"
   ]
  },
  {
   "cell_type": "code",
   "execution_count": null,
   "metadata": {
    "collapsed": false
   },
   "outputs": [],
   "source": [
    "p = lmfit.Parameters()\n",
    "p.add_many(('omega_c', 0.3, True, 1e-3,0.7), ('omega_b', 0.05,True,1e-4,0.1), ('h0', 0.8,True,0.1,2), ('sigma_8', 0.8, False),('n_s',0.97,False),\n",
    "           ('omega_k',0,False),('omega_nu',0,False),('w0',-1.0,False),\n",
    "          ('wa',0.0,False),('des_gals_z_b_1',0.05,False),('des_gals_b_b_1',1.,True,0.1,10.),('des_gals_z_b_2',0.5,False),\n",
    "           ('des_gals_b_b_2',1.,True,0.1,10.),('des_gals_z_b_3',2.,False),('des_gals_b_b_3',1.,True,0.1,10))"
   ]
  },
  {
   "cell_type": "code",
   "execution_count": null,
   "metadata": {
    "collapsed": false
   },
   "outputs": [],
   "source": [
    "ll=LSSLikelihood('sim_sample/sims/sim_mean.sacc')"
   ]
  },
  {
   "cell_type": "code",
   "execution_count": null,
   "metadata": {
    "collapsed": false
   },
   "outputs": [],
   "source": [
    "theory = LSSTheory('sim_sample/sims/sim_mean.sacc')"
   ]
  },
  {
   "cell_type": "code",
   "execution_count": null,
   "metadata": {
    "collapsed": true
   },
   "outputs": [],
   "source": [
    "#This is particular to LMFit. The parameters cannot be vectors\n",
    "#I had to create an intermediate step to fiddle with the bias\n",
    "#This is kind of slow because it has to open the data file 3 times we should optimize this\n",
    "#Also ccl is utterly slow...\n",
    "def loglike(params,data_file):\n",
    "    ll=LSSLikelihood(data_file)\n",
    "    s=sacc.SACC.loadFromHDF(data_file)\n",
    "    dic_par = params.valuesdict()\n",
    "    for tr in s.tracers :\n",
    "            if tr.type == 'point' :\n",
    "                dic_par[tr.exp_sample+'_z_b']=[]\n",
    "                dic_par[tr.exp_sample+'_b_b']=[]\n",
    "                for pkey in dic_par.keys():\n",
    "                    if tr.exp_sample+'_z_b_' in pkey:\n",
    "                        dic_par[tr.exp_sample+'_z_b'].append(dic_par[pkey])\n",
    "                    if tr.exp_sample+'_b_b_' in pkey:\n",
    "                        dic_par[tr.exp_sample+'_b_b'].append(dic_par[pkey])\n",
    "    theory = LSSTheory(data_file)\n",
    "    return ll(theory.get_prediction(dic_par))"
   ]
  },
  {
   "cell_type": "code",
   "execution_count": null,
   "metadata": {
    "collapsed": false
   },
   "outputs": [],
   "source": [
    "loglike(p,'sim_sample/sims/sim_mean.sacc')"
   ]
  },
  {
   "cell_type": "code",
   "execution_count": null,
   "metadata": {
    "collapsed": false
   },
   "outputs": [],
   "source": [
    "mini = lmfit.Minimizer(loglike,p,fcn_args=[theory,ll])\n",
    "res = mini.emcee(burn=10, steps=100, thin=10, params=p)"
   ]
  },
  {
   "cell_type": "code",
   "execution_count": null,
   "metadata": {
    "collapsed": true
   },
   "outputs": [],
   "source": []
  }
 ],
 "metadata": {
  "kernelspec": {
   "display_name": "Python 2",
   "language": "python",
   "name": "python2"
  },
  "language_info": {
   "codemirror_mode": {
    "name": "ipython",
    "version": 2
   },
   "file_extension": ".py",
   "mimetype": "text/x-python",
   "name": "python",
   "nbconvert_exporter": "python",
   "pygments_lexer": "ipython2",
   "version": "2.7.12"
  }
 },
 "nbformat": 4,
 "nbformat_minor": 0
}
